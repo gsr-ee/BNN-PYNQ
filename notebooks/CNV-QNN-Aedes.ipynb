{
 "cells": [
  {
   "cell_type": "code",
   "execution_count": 1,
   "metadata": {},
   "outputs": [
    {
     "data": {
      "application/javascript": [
       "\n",
       "require(['notebook/js/codecell'], function(codecell) {\n",
       "  codecell.CodeCell.options_default.highlight_modes[\n",
       "      'magic_text/x-csrc'] = {'reg':[/^%%microblaze/]};\n",
       "  Jupyter.notebook.events.one('kernel_ready.Kernel', function(){\n",
       "      Jupyter.notebook.get_cells().map(function(cell){\n",
       "          if (cell.cell_type == 'code'){ cell.auto_highlight(); } }) ;\n",
       "  });\n",
       "});\n"
      ]
     },
     "metadata": {},
     "output_type": "display_data"
    }
   ],
   "source": [
    "import bnn\n",
    "import numpy as np\n",
    "import os"
   ]
  },
  {
   "cell_type": "code",
   "execution_count": 2,
   "metadata": {},
   "outputs": [],
   "source": [
    "class loadDataset():\n",
    "    def __init__(self,path):\n",
    "        self.dir= path\n",
    "\n",
    "    def load_images(self,filename):\n",
    "        with open(os.path.join(self.dir,filename),'rb') as f:\n",
    "            data = np.frombuffer(f.read(), np.uint8, offset=0)\n",
    "\n",
    "        data=data.reshape(-1,3,32,32)\n",
    "        return data\n",
    "\n",
    "    def load_labels(self,filename):\n",
    "        with open(os.path.join(self.dir,filename),'rb') as f:\n",
    "            labels = np.frombuffer(f.read(), np.uint8, offset=0)\n",
    "        return labels"
   ]
  },
  {
   "cell_type": "code",
   "execution_count": 3,
   "metadata": {},
   "outputs": [],
   "source": [
    "from PIL import Image\n",
    "\n",
    "dataset=loadDataset(path='data')\n",
    "\n",
    "images_set=dataset.load_images(filename='test-images.bin')\n",
    "labels_set=dataset.load_labels(filename='test-labels.bin')"
   ]
  },
  {
   "cell_type": "code",
   "execution_count": 4,
   "metadata": {},
   "outputs": [],
   "source": [
    "images_set=images_set.transpose([0,3,2,1])\n",
    "images=[]\n",
    "for i in range(images_set.shape[0]):\n",
    "    im=Image.fromarray(images_set[i])\n",
    "    images.append(im)"
   ]
  },
  {
   "cell_type": "code",
   "execution_count": 5,
   "metadata": {},
   "outputs": [
    {
     "name": "stdout",
     "output_type": "stream",
     "text": [
      "Inference took 143501.00 microseconds, 1195.84 usec per image\n",
      "Classification rate: 836.23 images per second\n"
     ]
    }
   ],
   "source": [
    "hw_w2a2 = bnn.CnvClassifier(bnn.NETWORK_CNVW2A2,'aedes',bnn.RUNTIME_HW)\n",
    "results_w2a2 = hw_w2a2.classify_images(images)\n",
    "\n",
    "pred_w2a2=[]\n",
    "pred_w2a2.append(sum(results_w2a2[labels_set==0]==0)/sum(labels_set==0))\n",
    "pred_w2a2.append(sum(results_w2a2[labels_set==1]==1)/sum(labels_set==1))\n",
    "pred_w2a2.append(sum(results_w2a2[labels_set==2]==2)/sum(labels_set==2))\n",
    "pred_w2a2.append(sum(results_w2a2[labels_set==3]==3)/sum(labels_set==3))\n",
    "pred_w2a2.append(sum(results_w2a2[labels_set==4]==4)/sum(labels_set==4))\n",
    "pred_w2a2=[ float('%.2f' % elem) for elem in pred_w2a2 ]"
   ]
  },
  {
   "cell_type": "code",
   "execution_count": 6,
   "metadata": {},
   "outputs": [
    {
     "name": "stdout",
     "output_type": "stream",
     "text": [
      "Inference took 41025.00 microseconds, 341.88 usec per image\n",
      "Classification rate: 2925.05 images per second\n"
     ]
    }
   ],
   "source": [
    "hw_w1a2 = bnn.CnvClassifier(bnn.NETWORK_CNVW1A2,'aedes',bnn.RUNTIME_HW)\n",
    "results_w1a2 = hw_w1a2.classify_images(images)\n",
    "\n",
    "pred_w1a2=[]\n",
    "pred_w1a2.append(sum(results_w1a2[labels_set==0]==0)/sum(labels_set==0))\n",
    "pred_w1a2.append(sum(results_w1a2[labels_set==1]==1)/sum(labels_set==1))\n",
    "pred_w1a2.append(sum(results_w1a2[labels_set==2]==2)/sum(labels_set==2))\n",
    "pred_w1a2.append(sum(results_w1a2[labels_set==3]==3)/sum(labels_set==3))\n",
    "pred_w1a2.append(sum(results_w1a2[labels_set==4]==4)/sum(labels_set==4))\n",
    "pred_w1a2=[ float('%.2f' % elem) for elem in pred_w1a2 ]"
   ]
  },
  {
   "cell_type": "code",
   "execution_count": 7,
   "metadata": {},
   "outputs": [
    {
     "name": "stdout",
     "output_type": "stream",
     "text": [
      "Inference took 41211.00 microseconds, 343.42 usec per image\n",
      "Classification rate: 2911.84 images per second\n"
     ]
    }
   ],
   "source": [
    "hw_w1a1 = bnn.CnvClassifier(bnn.NETWORK_CNVW1A1,'aedes',bnn.RUNTIME_HW)\n",
    "results_w1a1 = hw_w1a1.classify_images(images)\n",
    "\n",
    "pred_w1a1=[]\n",
    "pred_w1a1.append(sum(results_w1a1[labels_set==0]==0)/sum(labels_set==0))\n",
    "pred_w1a1.append(sum(results_w1a1[labels_set==1]==1)/sum(labels_set==1))\n",
    "pred_w1a1.append(sum(results_w1a1[labels_set==2]==2)/sum(labels_set==2))\n",
    "pred_w1a1.append(sum(results_w1a1[labels_set==3]==3)/sum(labels_set==3))\n",
    "pred_w1a1.append(sum(results_w1a1[labels_set==4]==4)/sum(labels_set==4))\n",
    "pred_w1a1=[ float('%.2f' % elem) for elem in pred_w1a1 ]"
   ]
  },
  {
   "cell_type": "code",
   "execution_count": 8,
   "metadata": {},
   "outputs": [
    {
     "data": {
      "image/png": "[encoded data removed]",
      "text/plain": [
       "<matplotlib.figure.Figure at 0xad770250>"
      ]
     },
     "metadata": {},
     "output_type": "display_data"
    }
   ],
   "source": [
    "%matplotlib inline\n",
    "import matplotlib.pyplot as plt\n",
    "import numpy as np\n",
    "\n",
    "x = np.arange(len(hw_w1a1.classes))  # the label locations\n",
    "width = 0.3 # the width of the bars\n",
    "\n",
    "fig, ax = plt.subplots(figsize=((30/2.54), (15/2.54)))\n",
    "rects1 = ax.bar(x -width, pred_w2a2, width, label='W2A2')\n",
    "rects2 = ax.bar(x , pred_w1a2, width, label='W1A2')\n",
    "rects3 = ax.bar(x+width, pred_w1a1, width, label='W1A1')\n",
    "\n",
    "# Add some text for labels, title and custom x-axis tick labels, etc.\n",
    "ax.set_ylabel('Inference (%)', fontsize=14)\n",
    "ax.set_title('Relative Accuracy by precision', fontsize=16)\n",
    "ax.set_xticks(x)\n",
    "ax.set_xticklabels(hw_w1a1.classes, fontsize=12)\n",
    "ax.legend(loc='center right')\n",
    "\n",
    "\n",
    "def autolabel(rects):\n",
    "    \"\"\"Attach a text label above each bar in *rects*, displaying its height.\"\"\"\n",
    "    for rect in rects:\n",
    "        height = rect.get_height()\n",
    "        ax.annotate('{}'.format(height),\n",
    "                    xy=(rect.get_x() +rect.get_width()/2 , height),\n",
    "                    xytext=(0, 0),  # 3 points vertical offset\n",
    "                    textcoords=\"offset points\",\n",
    "                    ha='center', va='bottom')\n",
    "\n",
    "\n",
    "autolabel(rects1)\n",
    "autolabel(rects2)\n",
    "autolabel(rects3)\n",
    "\n",
    "plt.savefig('relative_accuracy.png')\n",
    "\n",
    "plt.show()"
   ]
  },
  {
   "cell_type": "code",
   "execution_count": 9,
   "metadata": {},
   "outputs": [],
   "source": [
    "from pynq import Xlnk\n",
    "\n",
    "xlnk = Xlnk()\n",
    "xlnk.xlnk_reset()"
   ]
  }
 ],
 "metadata": {
  "kernelspec": {
   "display_name": "Python 3",
   "language": "python",
   "name": "python3"
  },
  "language_info": {
   "codemirror_mode": {
    "name": "ipython",
    "version": 3
   },
   "file_extension": ".py",
   "mimetype": "text/x-python",
   "name": "python",
   "nbconvert_exporter": "python",
   "pygments_lexer": "ipython3",
   "version": "3.6.5"
  }
 },
 "nbformat": 4,
 "nbformat_minor": 2
}
